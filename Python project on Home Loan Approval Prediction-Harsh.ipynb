{
 "cells": [
  {
   "cell_type": "markdown",
   "metadata": {},
   "source": [
    "## 1. Project Description\n",
    "A home loan dataset was given to make a Home Loan Approval prediction. Currently, In approval process customers first apply for the home loan and after that company validates the customer's eligibiity based on different parameters asked in Home Loan approval form. These parameters are Gender, Marital Status, Education, Number of Dependents, Income, Loan Amount, Credit History and others. Now, the company wants to automate the loan eligibility process in real-time based on the customer detail provided while fillling online application form.\n",
    "It is a Binary Classification problem where we have to predict whether a loan would be approved or not. In a classification problem, we have to predict the discrete values based on a given set of independent variable(s).In this  project we will identify the best algorithm by comparing the results of different classiffication algorithms for Home Loan approval prediction where based on the parameters applicant will get there loan approved/disapproved and accordingly company will focus only on the approved customers.\n",
    " \n",
    "## 2. The Problem Statement:\n",
    "A company wants to know and automate the process that which customers or applicant should be given the loans for buying the Home. \n",
    "\n",
    "## 3.The Hypothesis Generation: \n",
    "Below are some points which I think may affect the application,\n",
    "\n",
    "1. Lower the loan amount will increase the chances of getting loan approved.\n",
    "2. People who has business has less chances to get their home loan approved.\n",
    "3. Those applicant who has higher income will have higher chances of getting their loan approved.\n",
    "4. Females applicants have better chance of getting loan approved.\n",
    "5. Married applicant will have the lower chances of getting loan approved.\n",
    "6. Applicants who are buying property in urban areas will easily get loan approved.\n",
    "7. Co-applicant with higher income will increase the chances of getting loan approved for main applicant.\n",
    "8. Loan for less time period should have higher chances of approval.\n",
    "9. Applicants who have repayed their previous debts should have higher chances of loan approval.\n",
    "\n",
    "## 4. Possible Outcome\n",
    "1. Generally males got their loan approved easily.\n",
    "2. Applicant who are buying property in Semi-Urban area will easily get their loan approved."
   ]
  },
  {
   "cell_type": "markdown",
   "metadata": {},
   "source": [
    "## 5. Getting the system ready, Importing Necessary Python Packages and loading the Datasets      (Training & Test)."
   ]
  },
  {
   "cell_type": "code",
   "execution_count": 474,
   "metadata": {},
   "outputs": [],
   "source": [
    "# To ignore any warnings\n",
    "import warnings\n",
    "warnings.filterwarnings('ignore')\n",
    "#To run all the commands in a same shell\n",
    "from IPython.core.interactiveshell import InteractiveShell\n",
    "InteractiveShell.ast_node_interactivity = \"all\"\n",
    "#Setting diectory\n",
    "import os\n",
    "os.chdir(r'/Users/harsh/Dropbox/Data science-HARSH/Projects/Python Project Home')\n",
    "import numpy as np\n",
    "import pandas as pd\n",
    "# For plotting graphs\n",
    "import matplotlib.pyplot as plt\n",
    "%matplotlib inline\n",
    "# For data visualization\n",
    "import seaborn as sns\n",
    "#for different algorithms\n",
    "from sklearn.preprocessing import scale\n",
    "from sklearn.model_selection import train_test_split\n",
    "from sklearn.model_selection import cross_val_score\n",
    "from sklearn.metrics import accuracy_score\n",
    "from sklearn.metrics import classification_report\n",
    "from sklearn.metrics import confusion_matrix\n",
    "from sklearn.metrics import roc_curve\n",
    "from sklearn.metrics import roc_auc_score\n",
    "from sklearn.model_selection import GridSearchCV\n",
    "from sklearn.linear_model import LogisticRegression\n",
    "from sklearn.svm import SVC\n",
    "from sklearn.neighbors import KNeighborsClassifier\n",
    "from sklearn.tree import DecisionTreeClassifier, export_graphviz\n",
    "from sklearn.ensemble import RandomForestClassifier\n",
    "from sklearn.ensemble import GradientBoostingClassifier\n",
    "from sklearn.ensemble import AdaBoostClassifier"
   ]
  },
  {
   "cell_type": "markdown",
   "metadata": {},
   "source": [
    "We have given two files (Train & Test).Train file will be used for training the model, i.e. our model will learn from this file.Train file contains all the independent variables and the target variable.\n",
    "Test file contains all the independent variables, but not the target variable. We will apply the model to predict the target variable for the test data."
   ]
  },
  {
   "cell_type": "code",
   "execution_count": 21,
   "metadata": {
    "scrolled": true
   },
   "outputs": [
    {
     "data": {
      "text/html": [
       "<div>\n",
       "<style scoped>\n",
       "    .dataframe tbody tr th:only-of-type {\n",
       "        vertical-align: middle;\n",
       "    }\n",
       "\n",
       "    .dataframe tbody tr th {\n",
       "        vertical-align: top;\n",
       "    }\n",
       "\n",
       "    .dataframe thead th {\n",
       "        text-align: right;\n",
       "    }\n",
       "</style>\n",
       "<table border=\"1\" class=\"dataframe\">\n",
       "  <thead>\n",
       "    <tr style=\"text-align: right;\">\n",
       "      <th></th>\n",
       "      <th>0</th>\n",
       "      <th>1</th>\n",
       "      <th>2</th>\n",
       "      <th>3</th>\n",
       "      <th>4</th>\n",
       "    </tr>\n",
       "  </thead>\n",
       "  <tbody>\n",
       "    <tr>\n",
       "      <th>Loan_ID</th>\n",
       "      <td>LP001002</td>\n",
       "      <td>LP001003</td>\n",
       "      <td>LP001005</td>\n",
       "      <td>LP001006</td>\n",
       "      <td>LP001008</td>\n",
       "    </tr>\n",
       "    <tr>\n",
       "      <th>Gender</th>\n",
       "      <td>Male</td>\n",
       "      <td>Male</td>\n",
       "      <td>Male</td>\n",
       "      <td>Male</td>\n",
       "      <td>Male</td>\n",
       "    </tr>\n",
       "    <tr>\n",
       "      <th>Married</th>\n",
       "      <td>No</td>\n",
       "      <td>Yes</td>\n",
       "      <td>Yes</td>\n",
       "      <td>Yes</td>\n",
       "      <td>No</td>\n",
       "    </tr>\n",
       "    <tr>\n",
       "      <th>Dependents</th>\n",
       "      <td>0</td>\n",
       "      <td>1</td>\n",
       "      <td>0</td>\n",
       "      <td>0</td>\n",
       "      <td>0</td>\n",
       "    </tr>\n",
       "    <tr>\n",
       "      <th>Education</th>\n",
       "      <td>Graduate</td>\n",
       "      <td>Graduate</td>\n",
       "      <td>Graduate</td>\n",
       "      <td>Not Graduate</td>\n",
       "      <td>Graduate</td>\n",
       "    </tr>\n",
       "    <tr>\n",
       "      <th>Self_Employed</th>\n",
       "      <td>No</td>\n",
       "      <td>No</td>\n",
       "      <td>Yes</td>\n",
       "      <td>No</td>\n",
       "      <td>No</td>\n",
       "    </tr>\n",
       "    <tr>\n",
       "      <th>ApplicantIncome</th>\n",
       "      <td>5849</td>\n",
       "      <td>4583</td>\n",
       "      <td>3000</td>\n",
       "      <td>2583</td>\n",
       "      <td>6000</td>\n",
       "    </tr>\n",
       "    <tr>\n",
       "      <th>CoapplicantIncome</th>\n",
       "      <td>0</td>\n",
       "      <td>1508</td>\n",
       "      <td>0</td>\n",
       "      <td>2358</td>\n",
       "      <td>0</td>\n",
       "    </tr>\n",
       "    <tr>\n",
       "      <th>LoanAmount</th>\n",
       "      <td>NaN</td>\n",
       "      <td>128</td>\n",
       "      <td>66</td>\n",
       "      <td>120</td>\n",
       "      <td>141</td>\n",
       "    </tr>\n",
       "    <tr>\n",
       "      <th>Loan_Amount_Term</th>\n",
       "      <td>360</td>\n",
       "      <td>360</td>\n",
       "      <td>360</td>\n",
       "      <td>360</td>\n",
       "      <td>360</td>\n",
       "    </tr>\n",
       "    <tr>\n",
       "      <th>Credit_History</th>\n",
       "      <td>1</td>\n",
       "      <td>1</td>\n",
       "      <td>1</td>\n",
       "      <td>1</td>\n",
       "      <td>1</td>\n",
       "    </tr>\n",
       "    <tr>\n",
       "      <th>Property_Area</th>\n",
       "      <td>Urban</td>\n",
       "      <td>Rural</td>\n",
       "      <td>Urban</td>\n",
       "      <td>Urban</td>\n",
       "      <td>Urban</td>\n",
       "    </tr>\n",
       "    <tr>\n",
       "      <th>Loan_Status</th>\n",
       "      <td>Y</td>\n",
       "      <td>N</td>\n",
       "      <td>Y</td>\n",
       "      <td>Y</td>\n",
       "      <td>Y</td>\n",
       "    </tr>\n",
       "  </tbody>\n",
       "</table>\n",
       "</div>"
      ],
      "text/plain": [
       "                          0         1         2             3         4\n",
       "Loan_ID            LP001002  LP001003  LP001005      LP001006  LP001008\n",
       "Gender                 Male      Male      Male          Male      Male\n",
       "Married                  No       Yes       Yes           Yes        No\n",
       "Dependents                0         1         0             0         0\n",
       "Education          Graduate  Graduate  Graduate  Not Graduate  Graduate\n",
       "Self_Employed            No        No       Yes            No        No\n",
       "ApplicantIncome        5849      4583      3000          2583      6000\n",
       "CoapplicantIncome         0      1508         0          2358         0\n",
       "LoanAmount              NaN       128        66           120       141\n",
       "Loan_Amount_Term        360       360       360           360       360\n",
       "Credit_History            1         1         1             1         1\n",
       "Property_Area         Urban     Rural     Urban         Urban     Urban\n",
       "Loan_Status               Y         N         Y             Y         Y"
      ]
     },
     "execution_count": 21,
     "metadata": {},
     "output_type": "execute_result"
    },
    {
     "data": {
      "text/html": [
       "<div>\n",
       "<style scoped>\n",
       "    .dataframe tbody tr th:only-of-type {\n",
       "        vertical-align: middle;\n",
       "    }\n",
       "\n",
       "    .dataframe tbody tr th {\n",
       "        vertical-align: top;\n",
       "    }\n",
       "\n",
       "    .dataframe thead th {\n",
       "        text-align: right;\n",
       "    }\n",
       "</style>\n",
       "<table border=\"1\" class=\"dataframe\">\n",
       "  <thead>\n",
       "    <tr style=\"text-align: right;\">\n",
       "      <th></th>\n",
       "      <th>0</th>\n",
       "      <th>1</th>\n",
       "      <th>2</th>\n",
       "      <th>3</th>\n",
       "      <th>4</th>\n",
       "    </tr>\n",
       "  </thead>\n",
       "  <tbody>\n",
       "    <tr>\n",
       "      <th>Loan_ID</th>\n",
       "      <td>LP001015</td>\n",
       "      <td>LP001022</td>\n",
       "      <td>LP001031</td>\n",
       "      <td>LP001035</td>\n",
       "      <td>LP001051</td>\n",
       "    </tr>\n",
       "    <tr>\n",
       "      <th>Gender</th>\n",
       "      <td>Male</td>\n",
       "      <td>Male</td>\n",
       "      <td>Male</td>\n",
       "      <td>Male</td>\n",
       "      <td>Male</td>\n",
       "    </tr>\n",
       "    <tr>\n",
       "      <th>Married</th>\n",
       "      <td>Yes</td>\n",
       "      <td>Yes</td>\n",
       "      <td>Yes</td>\n",
       "      <td>Yes</td>\n",
       "      <td>No</td>\n",
       "    </tr>\n",
       "    <tr>\n",
       "      <th>Dependents</th>\n",
       "      <td>0</td>\n",
       "      <td>1</td>\n",
       "      <td>2</td>\n",
       "      <td>2</td>\n",
       "      <td>0</td>\n",
       "    </tr>\n",
       "    <tr>\n",
       "      <th>Education</th>\n",
       "      <td>Graduate</td>\n",
       "      <td>Graduate</td>\n",
       "      <td>Graduate</td>\n",
       "      <td>Graduate</td>\n",
       "      <td>Not Graduate</td>\n",
       "    </tr>\n",
       "    <tr>\n",
       "      <th>Self_Employed</th>\n",
       "      <td>No</td>\n",
       "      <td>No</td>\n",
       "      <td>No</td>\n",
       "      <td>No</td>\n",
       "      <td>No</td>\n",
       "    </tr>\n",
       "    <tr>\n",
       "      <th>ApplicantIncome</th>\n",
       "      <td>5720</td>\n",
       "      <td>3076</td>\n",
       "      <td>5000</td>\n",
       "      <td>2340</td>\n",
       "      <td>3276</td>\n",
       "    </tr>\n",
       "    <tr>\n",
       "      <th>CoapplicantIncome</th>\n",
       "      <td>0</td>\n",
       "      <td>1500</td>\n",
       "      <td>1800</td>\n",
       "      <td>2546</td>\n",
       "      <td>0</td>\n",
       "    </tr>\n",
       "    <tr>\n",
       "      <th>LoanAmount</th>\n",
       "      <td>110</td>\n",
       "      <td>126</td>\n",
       "      <td>208</td>\n",
       "      <td>100</td>\n",
       "      <td>78</td>\n",
       "    </tr>\n",
       "    <tr>\n",
       "      <th>Loan_Amount_Term</th>\n",
       "      <td>360</td>\n",
       "      <td>360</td>\n",
       "      <td>360</td>\n",
       "      <td>360</td>\n",
       "      <td>360</td>\n",
       "    </tr>\n",
       "    <tr>\n",
       "      <th>Credit_History</th>\n",
       "      <td>1</td>\n",
       "      <td>1</td>\n",
       "      <td>1</td>\n",
       "      <td>NaN</td>\n",
       "      <td>1</td>\n",
       "    </tr>\n",
       "    <tr>\n",
       "      <th>Property_Area</th>\n",
       "      <td>Urban</td>\n",
       "      <td>Urban</td>\n",
       "      <td>Urban</td>\n",
       "      <td>Urban</td>\n",
       "      <td>Urban</td>\n",
       "    </tr>\n",
       "  </tbody>\n",
       "</table>\n",
       "</div>"
      ],
      "text/plain": [
       "                          0         1         2         3             4\n",
       "Loan_ID            LP001015  LP001022  LP001031  LP001035      LP001051\n",
       "Gender                 Male      Male      Male      Male          Male\n",
       "Married                 Yes       Yes       Yes       Yes            No\n",
       "Dependents                0         1         2         2             0\n",
       "Education          Graduate  Graduate  Graduate  Graduate  Not Graduate\n",
       "Self_Employed            No        No        No        No            No\n",
       "ApplicantIncome        5720      3076      5000      2340          3276\n",
       "CoapplicantIncome         0      1500      1800      2546             0\n",
       "LoanAmount              110       126       208       100            78\n",
       "Loan_Amount_Term        360       360       360       360           360\n",
       "Credit_History            1         1         1       NaN             1\n",
       "Property_Area         Urban     Urban     Urban     Urban         Urban"
      ]
     },
     "execution_count": 21,
     "metadata": {},
     "output_type": "execute_result"
    }
   ],
   "source": [
    "#Loading Train data\n",
    "loan_train=pd.read_csv('Train_Loan_Home.csv')\n",
    "loan_train.head().T\n",
    "#Loading Test data\n",
    "loan_test=pd.read_csv('Test_Loan_Home.csv')\n",
    "loan_test.head().T\n",
    "\n",
    "#Make a copy of train and test data so that even if we have to make any changes in these datasets we would not lose the original datasets.\n",
    "train_original=loan_train.copy()\n",
    "test_original=loan_test.copy()\n",
    "\n"
   ]
  },
  {
   "cell_type": "markdown",
   "metadata": {},
   "source": [
    "# 6. Understanding the data"
   ]
  },
  {
   "cell_type": "code",
   "execution_count": 18,
   "metadata": {},
   "outputs": [
    {
     "data": {
      "text/plain": [
       "Index(['Loan_ID', 'Gender', 'Married', 'Dependents', 'Education',\n",
       "       'Self_Employed', 'ApplicantIncome', 'CoapplicantIncome', 'LoanAmount',\n",
       "       'Loan_Amount_Term', 'Credit_History', 'Property_Area', 'Loan_Status'],\n",
       "      dtype='object')"
      ]
     },
     "execution_count": 18,
     "metadata": {},
     "output_type": "execute_result"
    },
    {
     "data": {
      "text/plain": [
       "Index(['Loan_ID', 'Gender', 'Married', 'Dependents', 'Education',\n",
       "       'Self_Employed', 'ApplicantIncome', 'CoapplicantIncome', 'LoanAmount',\n",
       "       'Loan_Amount_Term', 'Credit_History', 'Property_Area'],\n",
       "      dtype='object')"
      ]
     },
     "execution_count": 18,
     "metadata": {},
     "output_type": "execute_result"
    }
   ],
   "source": [
    "#checking features in the train data set\n",
    "loan_train.columns\n",
    "#checking features in the test data set\n",
    "loan_test.columns\n",
    "# We have 12 independent variables and 1 target variable, i.e. Loan_Status in the train dataset, test data sets also\n",
    "# have the same independent variable but do not have target variable."
   ]
  },
  {
   "cell_type": "markdown",
   "metadata": {},
   "source": [
    "#### Description of the each variable\n",
    "        Variable\t    Description\n",
    "    1. Loan_ID         Unique Loan ID\n",
    "    2. Gender\t       Male/ Female\n",
    "    3. Married\t       Applicant married (Y/N)\n",
    "    4.Dependents\t   Number of dependents\n",
    "    5.Education\t       Applicant Education (Graduate/Under Graduate)\n",
    "    6.Self_Employed\t   Self employed (Y/N)\n",
    "    7.ApplicantIncome\tApplicant income\n",
    "    8.CoapplicantIncome\tCoapplicant income\n",
    "    9. LoanAmount\t    Loan amount in thousands\n",
    "    10.Loan_Amount_Term\tTerm of loan in months\n",
    "    11.Credit_History\tCredit history is good or bad (1=Good, 0=Bad)\n",
    "    12.Property_Area\tUrban/ Semi Urban/ Rural\n",
    "    13.Loan_Status\t    Loan approved (Y/N)"
   ]
  },
  {
   "cell_type": "code",
   "execution_count": 23,
   "metadata": {},
   "outputs": [
    {
     "name": "stdout",
     "output_type": "stream",
     "text": [
      "<class 'pandas.core.frame.DataFrame'>\n",
      "RangeIndex: 614 entries, 0 to 613\n",
      "Data columns (total 13 columns):\n",
      "Loan_ID              614 non-null object\n",
      "Gender               601 non-null object\n",
      "Married              611 non-null object\n",
      "Dependents           599 non-null object\n",
      "Education            614 non-null object\n",
      "Self_Employed        582 non-null object\n",
      "ApplicantIncome      614 non-null int64\n",
      "CoapplicantIncome    614 non-null float64\n",
      "LoanAmount           592 non-null float64\n",
      "Loan_Amount_Term     600 non-null float64\n",
      "Credit_History       564 non-null float64\n",
      "Property_Area        614 non-null object\n",
      "Loan_Status          614 non-null object\n",
      "dtypes: float64(4), int64(1), object(8)\n",
      "memory usage: 62.4+ KB\n"
     ]
    },
    {
     "data": {
      "text/plain": [
       "(614, 13)"
      ]
     },
     "execution_count": 23,
     "metadata": {},
     "output_type": "execute_result"
    },
    {
     "data": {
      "text/plain": [
       "(367, 12)"
      ]
     },
     "execution_count": 23,
     "metadata": {},
     "output_type": "execute_result"
    }
   ],
   "source": [
    "# check information and data types for each variable\n",
    "loan_train.info()\n",
    "# check shape of each datasets\n",
    "loan_train.shape\n",
    "loan_test.shape\n"
   ]
  },
  {
   "cell_type": "markdown",
   "metadata": {},
   "source": [
    "#### Above Information shows that some features have missing non-null values (which we have to treat before fitting model)"
   ]
  },
  {
   "cell_type": "code",
   "execution_count": 85,
   "metadata": {},
   "outputs": [
    {
     "data": {
      "text/plain": [
       "149"
      ]
     },
     "execution_count": 85,
     "metadata": {},
     "output_type": "execute_result"
    },
    {
     "data": {
      "text/plain": [
       "84"
      ]
     },
     "execution_count": 85,
     "metadata": {},
     "output_type": "execute_result"
    },
    {
     "data": {
      "text/plain": [
       "Loan_ID               0\n",
       "Gender               13\n",
       "Married               3\n",
       "Dependents           15\n",
       "Education             0\n",
       "Self_Employed        32\n",
       "ApplicantIncome       0\n",
       "CoapplicantIncome     0\n",
       "LoanAmount           22\n",
       "Loan_Amount_Term     14\n",
       "Credit_History       50\n",
       "Property_Area         0\n",
       "Loan_Status           0\n",
       "dtype: int64"
      ]
     },
     "execution_count": 85,
     "metadata": {},
     "output_type": "execute_result"
    },
    {
     "data": {
      "text/plain": [
       "Loan_ID               0\n",
       "Gender               11\n",
       "Married               0\n",
       "Dependents           10\n",
       "Education             0\n",
       "Self_Employed        23\n",
       "ApplicantIncome       0\n",
       "CoapplicantIncome     0\n",
       "LoanAmount            5\n",
       "Loan_Amount_Term      6\n",
       "Credit_History       29\n",
       "Property_Area         0\n",
       "dtype: int64"
      ]
     },
     "execution_count": 85,
     "metadata": {},
     "output_type": "execute_result"
    }
   ],
   "source": [
    "#lets see how many missing values each variable has in train and test data.\n",
    "#Total missing values in both datasets\n",
    "loan_train.isnull().values.sum()\n",
    "loan_test.isnull().values.sum()\n",
    "#Total missing values variable wise\n",
    "loan_train.isnull().sum()\n",
    "loan_test.isnull().sum()"
   ]
  },
  {
   "cell_type": "code",
   "execution_count": 26,
   "metadata": {},
   "outputs": [
    {
     "data": {
      "text/html": [
       "<div>\n",
       "<style scoped>\n",
       "    .dataframe tbody tr th:only-of-type {\n",
       "        vertical-align: middle;\n",
       "    }\n",
       "\n",
       "    .dataframe tbody tr th {\n",
       "        vertical-align: top;\n",
       "    }\n",
       "\n",
       "    .dataframe thead th {\n",
       "        text-align: right;\n",
       "    }\n",
       "</style>\n",
       "<table border=\"1\" class=\"dataframe\">\n",
       "  <thead>\n",
       "    <tr style=\"text-align: right;\">\n",
       "      <th></th>\n",
       "      <th>count</th>\n",
       "      <th>unique</th>\n",
       "      <th>top</th>\n",
       "      <th>freq</th>\n",
       "      <th>mean</th>\n",
       "      <th>std</th>\n",
       "      <th>min</th>\n",
       "      <th>25%</th>\n",
       "      <th>50%</th>\n",
       "      <th>75%</th>\n",
       "      <th>max</th>\n",
       "    </tr>\n",
       "  </thead>\n",
       "  <tbody>\n",
       "    <tr>\n",
       "      <th>Loan_ID</th>\n",
       "      <td>614</td>\n",
       "      <td>614</td>\n",
       "      <td>LP001691</td>\n",
       "      <td>1</td>\n",
       "      <td>NaN</td>\n",
       "      <td>NaN</td>\n",
       "      <td>NaN</td>\n",
       "      <td>NaN</td>\n",
       "      <td>NaN</td>\n",
       "      <td>NaN</td>\n",
       "      <td>NaN</td>\n",
       "    </tr>\n",
       "    <tr>\n",
       "      <th>Gender</th>\n",
       "      <td>601</td>\n",
       "      <td>2</td>\n",
       "      <td>Male</td>\n",
       "      <td>489</td>\n",
       "      <td>NaN</td>\n",
       "      <td>NaN</td>\n",
       "      <td>NaN</td>\n",
       "      <td>NaN</td>\n",
       "      <td>NaN</td>\n",
       "      <td>NaN</td>\n",
       "      <td>NaN</td>\n",
       "    </tr>\n",
       "    <tr>\n",
       "      <th>Married</th>\n",
       "      <td>611</td>\n",
       "      <td>2</td>\n",
       "      <td>Yes</td>\n",
       "      <td>398</td>\n",
       "      <td>NaN</td>\n",
       "      <td>NaN</td>\n",
       "      <td>NaN</td>\n",
       "      <td>NaN</td>\n",
       "      <td>NaN</td>\n",
       "      <td>NaN</td>\n",
       "      <td>NaN</td>\n",
       "    </tr>\n",
       "    <tr>\n",
       "      <th>Dependents</th>\n",
       "      <td>599</td>\n",
       "      <td>4</td>\n",
       "      <td>0</td>\n",
       "      <td>345</td>\n",
       "      <td>NaN</td>\n",
       "      <td>NaN</td>\n",
       "      <td>NaN</td>\n",
       "      <td>NaN</td>\n",
       "      <td>NaN</td>\n",
       "      <td>NaN</td>\n",
       "      <td>NaN</td>\n",
       "    </tr>\n",
       "    <tr>\n",
       "      <th>Education</th>\n",
       "      <td>614</td>\n",
       "      <td>2</td>\n",
       "      <td>Graduate</td>\n",
       "      <td>480</td>\n",
       "      <td>NaN</td>\n",
       "      <td>NaN</td>\n",
       "      <td>NaN</td>\n",
       "      <td>NaN</td>\n",
       "      <td>NaN</td>\n",
       "      <td>NaN</td>\n",
       "      <td>NaN</td>\n",
       "    </tr>\n",
       "    <tr>\n",
       "      <th>Self_Employed</th>\n",
       "      <td>582</td>\n",
       "      <td>2</td>\n",
       "      <td>No</td>\n",
       "      <td>500</td>\n",
       "      <td>NaN</td>\n",
       "      <td>NaN</td>\n",
       "      <td>NaN</td>\n",
       "      <td>NaN</td>\n",
       "      <td>NaN</td>\n",
       "      <td>NaN</td>\n",
       "      <td>NaN</td>\n",
       "    </tr>\n",
       "    <tr>\n",
       "      <th>ApplicantIncome</th>\n",
       "      <td>614</td>\n",
       "      <td>NaN</td>\n",
       "      <td>NaN</td>\n",
       "      <td>NaN</td>\n",
       "      <td>5403.46</td>\n",
       "      <td>6109.04</td>\n",
       "      <td>150</td>\n",
       "      <td>2877.5</td>\n",
       "      <td>3812.5</td>\n",
       "      <td>5795</td>\n",
       "      <td>81000</td>\n",
       "    </tr>\n",
       "    <tr>\n",
       "      <th>CoapplicantIncome</th>\n",
       "      <td>614</td>\n",
       "      <td>NaN</td>\n",
       "      <td>NaN</td>\n",
       "      <td>NaN</td>\n",
       "      <td>1621.25</td>\n",
       "      <td>2926.25</td>\n",
       "      <td>0</td>\n",
       "      <td>0</td>\n",
       "      <td>1188.5</td>\n",
       "      <td>2297.25</td>\n",
       "      <td>41667</td>\n",
       "    </tr>\n",
       "    <tr>\n",
       "      <th>LoanAmount</th>\n",
       "      <td>592</td>\n",
       "      <td>NaN</td>\n",
       "      <td>NaN</td>\n",
       "      <td>NaN</td>\n",
       "      <td>146.412</td>\n",
       "      <td>85.5873</td>\n",
       "      <td>9</td>\n",
       "      <td>100</td>\n",
       "      <td>128</td>\n",
       "      <td>168</td>\n",
       "      <td>700</td>\n",
       "    </tr>\n",
       "    <tr>\n",
       "      <th>Loan_Amount_Term</th>\n",
       "      <td>600</td>\n",
       "      <td>NaN</td>\n",
       "      <td>NaN</td>\n",
       "      <td>NaN</td>\n",
       "      <td>342</td>\n",
       "      <td>65.1204</td>\n",
       "      <td>12</td>\n",
       "      <td>360</td>\n",
       "      <td>360</td>\n",
       "      <td>360</td>\n",
       "      <td>480</td>\n",
       "    </tr>\n",
       "    <tr>\n",
       "      <th>Credit_History</th>\n",
       "      <td>564</td>\n",
       "      <td>NaN</td>\n",
       "      <td>NaN</td>\n",
       "      <td>NaN</td>\n",
       "      <td>0.842199</td>\n",
       "      <td>0.364878</td>\n",
       "      <td>0</td>\n",
       "      <td>1</td>\n",
       "      <td>1</td>\n",
       "      <td>1</td>\n",
       "      <td>1</td>\n",
       "    </tr>\n",
       "    <tr>\n",
       "      <th>Property_Area</th>\n",
       "      <td>614</td>\n",
       "      <td>3</td>\n",
       "      <td>Semiurban</td>\n",
       "      <td>233</td>\n",
       "      <td>NaN</td>\n",
       "      <td>NaN</td>\n",
       "      <td>NaN</td>\n",
       "      <td>NaN</td>\n",
       "      <td>NaN</td>\n",
       "      <td>NaN</td>\n",
       "      <td>NaN</td>\n",
       "    </tr>\n",
       "    <tr>\n",
       "      <th>Loan_Status</th>\n",
       "      <td>614</td>\n",
       "      <td>2</td>\n",
       "      <td>Y</td>\n",
       "      <td>422</td>\n",
       "      <td>NaN</td>\n",
       "      <td>NaN</td>\n",
       "      <td>NaN</td>\n",
       "      <td>NaN</td>\n",
       "      <td>NaN</td>\n",
       "      <td>NaN</td>\n",
       "      <td>NaN</td>\n",
       "    </tr>\n",
       "  </tbody>\n",
       "</table>\n",
       "</div>"
      ],
      "text/plain": [
       "                  count unique        top freq      mean       std  min  \\\n",
       "Loan_ID             614    614   LP001691    1       NaN       NaN  NaN   \n",
       "Gender              601      2       Male  489       NaN       NaN  NaN   \n",
       "Married             611      2        Yes  398       NaN       NaN  NaN   \n",
       "Dependents          599      4          0  345       NaN       NaN  NaN   \n",
       "Education           614      2   Graduate  480       NaN       NaN  NaN   \n",
       "Self_Employed       582      2         No  500       NaN       NaN  NaN   \n",
       "ApplicantIncome     614    NaN        NaN  NaN   5403.46   6109.04  150   \n",
       "CoapplicantIncome   614    NaN        NaN  NaN   1621.25   2926.25    0   \n",
       "LoanAmount          592    NaN        NaN  NaN   146.412   85.5873    9   \n",
       "Loan_Amount_Term    600    NaN        NaN  NaN       342   65.1204   12   \n",
       "Credit_History      564    NaN        NaN  NaN  0.842199  0.364878    0   \n",
       "Property_Area       614      3  Semiurban  233       NaN       NaN  NaN   \n",
       "Loan_Status         614      2          Y  422       NaN       NaN  NaN   \n",
       "\n",
       "                      25%     50%      75%    max  \n",
       "Loan_ID               NaN     NaN      NaN    NaN  \n",
       "Gender                NaN     NaN      NaN    NaN  \n",
       "Married               NaN     NaN      NaN    NaN  \n",
       "Dependents            NaN     NaN      NaN    NaN  \n",
       "Education             NaN     NaN      NaN    NaN  \n",
       "Self_Employed         NaN     NaN      NaN    NaN  \n",
       "ApplicantIncome    2877.5  3812.5     5795  81000  \n",
       "CoapplicantIncome       0  1188.5  2297.25  41667  \n",
       "LoanAmount            100     128      168    700  \n",
       "Loan_Amount_Term      360     360      360    480  \n",
       "Credit_History          1       1        1      1  \n",
       "Property_Area         NaN     NaN      NaN    NaN  \n",
       "Loan_Status           NaN     NaN      NaN    NaN  "
      ]
     },
     "execution_count": 26,
     "metadata": {},
     "output_type": "execute_result"
    }
   ],
   "source": [
    "# check description of all features(numerical and non-numerical)\n",
    "loan_train.describe(include='all').T"
   ]
  },
  {
   "cell_type": "code",
   "execution_count": 137,
   "metadata": {
    "scrolled": true
   },
   "outputs": [
    {
     "data": {
      "text/plain": [
       "Male      0.81759\n",
       "Female    0.18241\n",
       "Name: Gender, dtype: float64"
      ]
     },
     "execution_count": 137,
     "metadata": {},
     "output_type": "execute_result"
    },
    {
     "data": {
      "text/plain": [
       "Yes    0.653094\n",
       "No     0.346906\n",
       "Name: Married, dtype: float64"
      ]
     },
     "execution_count": 137,
     "metadata": {},
     "output_type": "execute_result"
    },
    {
     "data": {
      "text/plain": [
       "0     0.586319\n",
       "1     0.166124\n",
       "2     0.164495\n",
       "3+    0.083062\n",
       "Name: Dependents, dtype: float64"
      ]
     },
     "execution_count": 137,
     "metadata": {},
     "output_type": "execute_result"
    },
    {
     "data": {
      "text/plain": [
       "Graduate        0.781759\n",
       "Not Graduate    0.218241\n",
       "Name: Education, dtype: float64"
      ]
     },
     "execution_count": 137,
     "metadata": {},
     "output_type": "execute_result"
    },
    {
     "data": {
      "text/plain": [
       "No     0.86645\n",
       "Yes    0.13355\n",
       "Name: Self_Employed, dtype: float64"
      ]
     },
     "execution_count": 137,
     "metadata": {},
     "output_type": "execute_result"
    },
    {
     "data": {
      "text/plain": [
       "Semiurban    0.379479\n",
       "Urban        0.328990\n",
       "Rural        0.291531\n",
       "Name: Property_Area, dtype: float64"
      ]
     },
     "execution_count": 137,
     "metadata": {},
     "output_type": "execute_result"
    },
    {
     "data": {
      "text/plain": [
       "Y    0.687296\n",
       "N    0.312704\n",
       "Name: Loan_Status, dtype: float64"
      ]
     },
     "execution_count": 137,
     "metadata": {},
     "output_type": "execute_result"
    },
    {
     "data": {
      "text/plain": [
       "1.0    0.855049\n",
       "0.0    0.144951\n",
       "Name: Credit_History, dtype: float64"
      ]
     },
     "execution_count": 137,
     "metadata": {},
     "output_type": "execute_result"
    }
   ],
   "source": [
    "# Categorical variable categories and their percentage distribution.\n",
    "list=['Gender', 'Married', 'Dependents', 'Education',\n",
    "       'Self_Employed', 'Property_Area', 'Loan_Status', 'Credit_History']\n",
    "for i in list:\n",
    "    loan_train[i].value_counts(normalize='True')"
   ]
  },
  {
   "cell_type": "markdown",
   "metadata": {},
   "source": [
    "## 7. Handling Missing Values"
   ]
  },
  {
   "cell_type": "code",
   "execution_count": null,
   "metadata": {},
   "outputs": [],
   "source": [
    "# As we can see from above (section-6) that some categorical variables have some missing value, lets replace them with most frequent values'Mode'\n",
    "loan_train.Gender.fillna(loan_train.Gender.mode()[0], inplace=True)\n",
    "loan_train.Married.fillna(loan_train.Married.mode()[0], inplace=True)\n",
    "loan_train.Dependents.fillna(loan_train.Dependents.mode()[0], inplace=True)\n",
    "loan_train.Self_Employed.fillna(loan_train.Self_Employed.mode()[0], inplace=True)\n",
    "loan_train.Credit_History.fillna(loan_train.Credit_History.mode()[0], inplace=True)"
   ]
  },
  {
   "cell_type": "code",
   "execution_count": 73,
   "metadata": {},
   "outputs": [
    {
     "data": {
      "text/plain": [
       "360.0    526\n",
       "180.0     44\n",
       "480.0     15\n",
       "300.0     13\n",
       "84.0       4\n",
       "240.0      4\n",
       "120.0      3\n",
       "36.0       2\n",
       "60.0       2\n",
       "12.0       1\n",
       "Name: Loan_Amount_Term, dtype: int64"
      ]
     },
     "execution_count": 73,
     "metadata": {},
     "output_type": "execute_result"
    }
   ],
   "source": [
    "# Imputing missing values for numerical varibales (Loan amount term and Loan amount)\n",
    "#Loan amount term (Its categorical but in numeric, so we can replace with mode of 360)\n",
    "loan_train.Loan_Amount_Term.value_counts()\n",
    "loan_train.Loan_Amount_Term.fillna(loan_train.Loan_Amount_Term.mode()[0],inplace=True)"
   ]
  },
  {
   "cell_type": "code",
   "execution_count": 63,
   "metadata": {},
   "outputs": [
    {
     "data": {
      "text/plain": [
       "<matplotlib.axes._subplots.AxesSubplot at 0x1a173b1eb8>"
      ]
     },
     "execution_count": 63,
     "metadata": {},
     "output_type": "execute_result"
    },
    {
     "data": {
      "text/plain": [
       "Text(0,0.5,'Total Loan Amount')"
      ]
     },
     "execution_count": 63,
     "metadata": {},
     "output_type": "execute_result"
    },
    {
     "data": {
      "image/png": "[encoded data removed]",
      "text/plain": [
       "<Figure size 432x288 with 1 Axes>"
      ]
     },
     "metadata": {},
     "output_type": "display_data"
    },
    {
     "data": {
      "text/plain": [
       "<matplotlib.axes._subplots.AxesSubplot at 0x1a17353588>"
      ]
     },
     "execution_count": 63,
     "metadata": {},
     "output_type": "execute_result"
    },
    {
     "data": {
      "image/png": "[encoded data removed]",
      "text/plain": [
       "<Figure size 432x288 with 2 Axes>"
      ]
     },
     "metadata": {},
     "output_type": "display_data"
    }
   ],
   "source": [
    "#Loan amount,is numerical so we can fill the missing value with mean, but first check wether it has any outlier or not.\n",
    "loan_train.LoanAmount.plot(kind='box')\n",
    "plt.ylabel('Total Loan Amount')\n",
    "plt.show()\n",
    "#It has some outliers so better we should not use mean for missing values but we can use median for imputaion of null values.\n",
    "loan_train.LoanAmount.fillna(loan_train.LoanAmount.median(),inplace=True)\n",
    "\n",
    "# Lets check the data again with any missing values\n",
    "sns.heatmap(loan_train.isnull())\n"
   ]
  },
  {
   "cell_type": "code",
   "execution_count": 113,
   "metadata": {},
   "outputs": [
    {
     "data": {
      "text/plain": [
       "<matplotlib.axes._subplots.AxesSubplot at 0x1a173e07f0>"
      ]
     },
     "execution_count": 113,
     "metadata": {},
     "output_type": "execute_result"
    },
    {
     "data": {
      "image/png": "[encoded data removed]",
      "text/plain": [
       "<Figure size 432x288 with 2 Axes>"
      ]
     },
     "metadata": {},
     "output_type": "display_data"
    }
   ],
   "source": [
    "# lets fill the missing value in the test dataset as well with the same steps and methods\n",
    "loan_test.Gender.fillna(loan_test.Gender.mode()[0], inplace=True)\n",
    "loan_test.Married.fillna(loan_test.Married.mode()[0], inplace=True)\n",
    "loan_test.Dependents.fillna(loan_test.Dependents.mode()[0], inplace=True)\n",
    "loan_test.Self_Employed.fillna(loan_test.Self_Employed.mode()[0], inplace=True)\n",
    "loan_test.Credit_History.fillna(loan_test.Credit_History.mode()[0], inplace=True)\n",
    "loan_test.Loan_Amount_Term.fillna(loan_test.Loan_Amount_Term.mode()[0],inplace=True)\n",
    "loan_test.LoanAmount.fillna(loan_test.LoanAmount.median(),inplace=True)\n",
    "# Lets check the data again with any missing values\n",
    "sns.heatmap(loan_test.isnull())"
   ]
  },
  {
   "cell_type": "markdown",
   "metadata": {},
   "source": [
    "## 8. Exploratory Data Analysis\n",
    "### A. Univariate Analysis\n",
    "### B. Bivariate Analysis"
   ]
  },
  {
   "cell_type": "markdown",
   "metadata": {},
   "source": [
    "### A. Univariate Analysis"
   ]
  },
  {
   "cell_type": "code",
   "execution_count": 175,
   "metadata": {},
   "outputs": [
    {
     "data": {
      "text/plain": [
       "Y    0.687296\n",
       "N    0.312704\n",
       "Name: Loan_Status, dtype: float64"
      ]
     },
     "execution_count": 175,
     "metadata": {},
     "output_type": "execute_result"
    },
    {
     "data": {
      "text/plain": [
       "<matplotlib.axes._subplots.AxesSubplot at 0x1a1deee2b0>"
      ]
     },
     "execution_count": 175,
     "metadata": {},
     "output_type": "execute_result"
    },
    {
     "data": {
      "image/png": "[encoded data removed]",
      "text/plain": [
       "<Figure size 432x288 with 1 Axes>"
      ]
     },
     "metadata": {},
     "output_type": "display_data"
    }
   ],
   "source": [
    "# Lets first analyze the Target variable i.e Loan Status\n",
    "loan_train.Loan_Status.value_counts(normalize=True)\n",
    "loan_train.Loan_Status.value_counts(normalize=True).plot.bar(title= 'Loan Status')"
   ]
  },
  {
   "cell_type": "markdown",
   "metadata": {},
   "source": [
    "68.72% of the applicants have loan approved i.e most of the applicants are getting there loan approved"
   ]
  },
  {
   "cell_type": "code",
   "execution_count": 567,
   "metadata": {},
   "outputs": [
    {
     "data": {
      "text/plain": [
       "Male      0.81759\n",
       "Female    0.18241\n",
       "Name: Gender, dtype: float64"
      ]
     },
     "execution_count": 567,
     "metadata": {},
     "output_type": "execute_result"
    },
    {
     "data": {
      "text/plain": [
       "<matplotlib.axes._subplots.AxesSubplot at 0x1a26589a20>"
      ]
     },
     "execution_count": 567,
     "metadata": {},
     "output_type": "execute_result"
    },
    {
     "data": {
      "image/png": "[encoded data removed]",
      "text/plain": [
       "<Figure size 432x288 with 1 Axes>"
      ]
     },
     "metadata": {},
     "output_type": "display_data"
    }
   ],
   "source": [
    "#lets explore others features\n",
    "#Gender ratio of the applicants\n",
    "loan_train.Gender.value_counts(normalize=True)\n",
    "loan_train.Gender.value_counts(normalize=True).plot.bar(title= 'Gender')"
   ]
  },
  {
   "cell_type": "markdown",
   "metadata": {},
   "source": [
    "81.75% of applicant are male and 18.24% of applicants are female"
   ]
  },
  {
   "cell_type": "code",
   "execution_count": 180,
   "metadata": {},
   "outputs": [
    {
     "data": {
      "text/plain": [
       "Yes    0.653094\n",
       "No     0.346906\n",
       "Name: Married, dtype: float64"
      ]
     },
     "execution_count": 180,
     "metadata": {},
     "output_type": "execute_result"
    },
    {
     "data": {
      "text/plain": [
       "<matplotlib.axes._subplots.AxesSubplot at 0x1a1dd11e80>"
      ]
     },
     "execution_count": 180,
     "metadata": {},
     "output_type": "execute_result"
    },
    {
     "data": {
      "image/png": "[encoded data removed]",
      "text/plain": [
       "<Figure size 432x288 with 1 Axes>"
      ]
     },
     "metadata": {},
     "output_type": "display_data"
    }
   ],
   "source": [
    "#Marital Status of applicant\n",
    "loan_train.Married.value_counts(normalize=True)\n",
    "loan_train.Married.value_counts(normalize=True).plot.bar(title= 'Marital Status')"
   ]
  },
  {
   "cell_type": "markdown",
   "metadata": {},
   "source": [
    "Among all the applicants 65.30% of the applicants are married and 34% are unmarried"
   ]
  },
  {
   "cell_type": "code",
   "execution_count": 181,
   "metadata": {},
   "outputs": [
    {
     "data": {
      "text/plain": [
       "0     0.586319\n",
       "1     0.166124\n",
       "2     0.164495\n",
       "3+    0.083062\n",
       "Name: Dependents, dtype: float64"
      ]
     },
     "execution_count": 181,
     "metadata": {},
     "output_type": "execute_result"
    },
    {
     "data": {
      "text/plain": [
       "<matplotlib.axes._subplots.AxesSubplot at 0x1a1aea2b70>"
      ]
     },
     "execution_count": 181,
     "metadata": {},
     "output_type": "execute_result"
    },
    {
     "data": {
      "image/png": "[encoded data removed]",
      "text/plain": [
       "<Figure size 432x288 with 1 Axes>"
      ]
     },
     "metadata": {},
     "output_type": "display_data"
    }
   ],
   "source": [
    "#No of dependents of applicant\n",
    "loan_train.Dependents.value_counts(normalize=True)\n",
    "loan_train.Dependents.value_counts(normalize=True).plot.bar(title= 'No of Dependents')"
   ]
  },
  {
   "cell_type": "markdown",
   "metadata": {},
   "source": [
    "among all the aplicants around 58.63% of the applicants have no dependents and the applicants with highest 3+ dependents is very less i.e.8%"
   ]
  },
  {
   "cell_type": "code",
   "execution_count": 182,
   "metadata": {},
   "outputs": [
    {
     "data": {
      "text/plain": [
       "Graduate        0.781759\n",
       "Not Graduate    0.218241\n",
       "Name: Education, dtype: float64"
      ]
     },
     "execution_count": 182,
     "metadata": {},
     "output_type": "execute_result"
    },
    {
     "data": {
      "text/plain": [
       "<matplotlib.axes._subplots.AxesSubplot at 0x1a1ad602e8>"
      ]
     },
     "execution_count": 182,
     "metadata": {},
     "output_type": "execute_result"
    },
    {
     "data": {
      "image/png": "[encoded data removed]",
      "text/plain": [
       "<Figure size 432x288 with 1 Axes>"
      ]
     },
     "metadata": {},
     "output_type": "display_data"
    }
   ],
   "source": [
    "#Educational Status of applicant\n",
    "loan_train.Education.value_counts(normalize=True)\n",
    "loan_train.Education.value_counts(normalize=True).plot.bar(title= 'Educational Status')"
   ]
  },
  {
   "cell_type": "markdown",
   "metadata": {},
   "source": [
    "Among all the applicants 78% are graduate and rest are non-graduate"
   ]
  },
  {
   "cell_type": "code",
   "execution_count": 183,
   "metadata": {},
   "outputs": [
    {
     "data": {
      "text/plain": [
       "No     0.86645\n",
       "Yes    0.13355\n",
       "Name: Self_Employed, dtype: float64"
      ]
     },
     "execution_count": 183,
     "metadata": {},
     "output_type": "execute_result"
    },
    {
     "data": {
      "text/plain": [
       "<matplotlib.axes._subplots.AxesSubplot at 0x1a1dee4cf8>"
      ]
     },
     "execution_count": 183,
     "metadata": {},
     "output_type": "execute_result"
    },
    {
     "data": {
      "image/png": "[encoded data removed]",
      "text/plain": [
       "<Figure size 432x288 with 1 Axes>"
      ]
     },
     "metadata": {},
     "output_type": "display_data"
    }
   ],
   "source": [
    "#Self employment Status of applicant\n",
    "loan_train.Self_Employed.value_counts(normalize=True)\n",
    "loan_train.Self_Employed.value_counts(normalize=True).plot.bar(title= 'Self Employment Status')"
   ]
  },
  {
   "cell_type": "markdown",
   "metadata": {},
   "source": [
    "Among all the applicants 86.64% are salaried people or those who are not self employed"
   ]
  },
  {
   "cell_type": "code",
   "execution_count": 184,
   "metadata": {},
   "outputs": [
    {
     "data": {
      "text/plain": [
       "1.0    0.855049\n",
       "0.0    0.144951\n",
       "Name: Credit_History, dtype: float64"
      ]
     },
     "execution_count": 184,
     "metadata": {},
     "output_type": "execute_result"
    },
    {
     "data": {
      "text/plain": [
       "<matplotlib.axes._subplots.AxesSubplot at 0x1a1d91cbe0>"
      ]
     },
     "execution_count": 184,
     "metadata": {},
     "output_type": "execute_result"
    },
    {
     "data": {
      "image/png": "[encoded data removed]",
      "text/plain": [
       "<Figure size 432x288 with 1 Axes>"
      ]
     },
     "metadata": {},
     "output_type": "display_data"
    }
   ],
   "source": [
    "#Credit History Status of applicant\n",
    "loan_train.Credit_History.value_counts(normalize=True)\n",
    "loan_train.Credit_History.value_counts(normalize=True).plot.bar(title= 'Status of Credit History')"
   ]
  },
  {
   "cell_type": "markdown",
   "metadata": {},
   "source": [
    "Among all the applicants 85% have good credit history"
   ]
  },
  {
   "cell_type": "code",
   "execution_count": 300,
   "metadata": {},
   "outputs": [
    {
     "data": {
      "text/plain": [
       "Semiurban    0.379479\n",
       "Urban        0.328990\n",
       "Rural        0.291531\n",
       "Name: Property_Area, dtype: float64"
      ]
     },
     "execution_count": 300,
     "metadata": {},
     "output_type": "execute_result"
    },
    {
     "data": {
      "text/plain": [
       "<matplotlib.axes._subplots.AxesSubplot at 0x1a299d7780>"
      ]
     },
     "execution_count": 300,
     "metadata": {},
     "output_type": "execute_result"
    },
    {
     "data": {
      "image/png": "[encoded data removed]",
      "text/plain": [
       "<Figure size 432x288 with 1 Axes>"
      ]
     },
     "metadata": {},
     "output_type": "display_data"
    }
   ],
   "source": [
    "#Location of Property area of applicant\n",
    "loan_train.Property_Area.value_counts(normalize=True)\n",
    "loan_train.Property_Area.value_counts(normalize=True).plot.bar(title= 'Property Area')"
   ]
  },
  {
   "cell_type": "markdown",
   "metadata": {},
   "source": [
    "37.94% of the applicants are taking Home Loan for the properties located in SemiUrban are followed by Urban and Rural area"
   ]
  },
  {
   "cell_type": "code",
   "execution_count": 241,
   "metadata": {},
   "outputs": [
    {
     "data": {
      "text/plain": [
       "<matplotlib.axes._subplots.AxesSubplot at 0x1a242e69e8>"
      ]
     },
     "execution_count": 241,
     "metadata": {},
     "output_type": "execute_result"
    },
    {
     "data": {
      "image/png": "[encoded data removed]",
      "text/plain": [
       "<Figure size 432x288 with 1 Axes>"
      ]
     },
     "metadata": {},
     "output_type": "display_data"
    },
    {
     "data": {
      "text/plain": [
       "<matplotlib.axes._subplots.AxesSubplot at 0x1a23a61160>"
      ]
     },
     "execution_count": 241,
     "metadata": {},
     "output_type": "execute_result"
    },
    {
     "data": {
      "image/png": "[encoded data removed]",
      "text/plain": [
       "<Figure size 432x288 with 1 Axes>"
      ]
     },
     "metadata": {},
     "output_type": "display_data"
    }
   ],
   "source": [
    "# Applicant income and  Loan Amount distribution\n",
    "sns.distplot(loan_train.ApplicantIncome)\n",
    "plt.show()\n",
    "sns.distplot(loan_train.LoanAmount)"
   ]
  },
  {
   "cell_type": "markdown",
   "metadata": {},
   "source": [
    "Its quite visible from above applicant income graph that it is positively skewed and not normally distributed while Loan amount graph is slightly right skewed but in general it is normally distributed. Mean Applicant income is 5403."
   ]
  },
  {
   "cell_type": "markdown",
   "metadata": {},
   "source": [
    "### B. Bivariate Analysis"
   ]
  },
  {
   "cell_type": "markdown",
   "metadata": {},
   "source": [
    "#### We have generated some hypothesis earlier lets test some of them using bivariate analysis with respect to target variable"
   ]
  },
  {
   "cell_type": "code",
   "execution_count": 231,
   "metadata": {
    "scrolled": false
   },
   "outputs": [
    {
     "data": {
      "text/plain": [
       "<seaborn.axisgrid.FacetGrid at 0x1a23e5d7f0>"
      ]
     },
     "execution_count": 231,
     "metadata": {},
     "output_type": "execute_result"
    },
    {
     "data": {
      "image/png": "[encoded data removed]",
      "text/plain": [
       "<Figure size 360x360 with 1 Axes>"
      ]
     },
     "metadata": {},
     "output_type": "display_data"
    }
   ],
   "source": [
    "#Hypotheis:- Lower the loan amount will increase the chances of getting loan approved.\n",
    "sns.catplot(x=\"Loan_Status\", y=\"LoanAmount\", kind=\"violin\",data=loan_train)\n"
   ]
  },
  {
   "cell_type": "markdown",
   "metadata": {},
   "source": [
    "Conclusion:- As shown in above graph that at less loan amount the chances of getting loan approved is higher than at high loan amount"
   ]
  },
  {
   "cell_type": "code",
   "execution_count": 282,
   "metadata": {
    "scrolled": true
   },
   "outputs": [
    {
     "data": {
      "text/plain": [
       "<matplotlib.axes._subplots.AxesSubplot at 0x1a23294be0>"
      ]
     },
     "execution_count": 282,
     "metadata": {},
     "output_type": "execute_result"
    },
    {
     "data": {
      "image/png": "[encoded data removed]",
      "text/plain": [
       "<Figure size 432x288 with 1 Axes>"
      ]
     },
     "metadata": {},
     "output_type": "display_data"
    }
   ],
   "source": [
    "#Hypotheis:- People who has business has less chances to get their home loan approved.\n",
    "pd.crosstab(loan_train['Self_Employed'],loan_train['Loan_Status'],normalize='index').plot(kind=\"bar\",colormap='viridis',stacked=True)"
   ]
  },
  {
   "cell_type": "markdown",
   "metadata": {},
   "source": [
    "Conclusion:- As per above graph it is clearly visible that loan approval status is same for the self employed and not self employed"
   ]
  },
  {
   "cell_type": "code",
   "execution_count": 279,
   "metadata": {},
   "outputs": [
    {
     "data": {
      "image/png": "[encoded data removed]",
      "text/plain": [
       "<Figure size 360x360 with 1 Axes>"
      ]
     },
     "metadata": {},
     "output_type": "display_data"
    }
   ],
   "source": [
    "#Hypotheis:- Those applicant who has higher income will have higher chances of getting their loan approved.\n",
    "ai = sns.catplot(x=\"Loan_Status\", y=\"ApplicantIncome\", kind=\"violin\", inner=None, data=loan_train)\n",
    "sns.swarmplot(x=\"Loan_Status\", y=\"ApplicantIncome\", color=\"w\", size=3, data=loan_train, ax=ai.ax);"
   ]
  },
  {
   "cell_type": "markdown",
   "metadata": {},
   "source": [
    "Conclusion:- As per above graph we can say that at higher income level number of loan approvals are high"
   ]
  },
  {
   "cell_type": "code",
   "execution_count": 286,
   "metadata": {},
   "outputs": [
    {
     "data": {
      "text/plain": [
       "<matplotlib.axes._subplots.AxesSubplot at 0x1a28a70080>"
      ]
     },
     "execution_count": 286,
     "metadata": {},
     "output_type": "execute_result"
    },
    {
     "data": {
      "image/png": "[encoded data removed]",
      "text/plain": [
       "<Figure size 432x288 with 1 Axes>"
      ]
     },
     "metadata": {},
     "output_type": "display_data"
    }
   ],
   "source": [
    "#Hypotheis:- Females applicants have better chance of getting loan approved.\n",
    "pd.crosstab(loan_train.Gender,loan_train.Loan_Status,normalize='index').plot(kind=\"bar\",colormap='winter',stacked=True)"
   ]
  },
  {
   "cell_type": "markdown",
   "metadata": {},
   "source": [
    "Conclusion:- As per above graph it is clearly visible that loan approval ratio is mor or less same for both the gender"
   ]
  },
  {
   "cell_type": "code",
   "execution_count": 288,
   "metadata": {},
   "outputs": [
    {
     "data": {
      "text/plain": [
       "<matplotlib.axes._subplots.AxesSubplot at 0x1a28ca50b8>"
      ]
     },
     "execution_count": 288,
     "metadata": {},
     "output_type": "execute_result"
    },
    {
     "data": {
      "image/png": "[encoded data removed]",
      "text/plain": [
       "<Figure size 432x288 with 1 Axes>"
      ]
     },
     "metadata": {},
     "output_type": "display_data"
    }
   ],
   "source": [
    "#Hypotheis:- Married applicant will have the lower chances of getting loan approved.\n",
    "pd.crosstab(loan_train.Married,loan_train.Loan_Status,normalize='index').plot(kind=\"bar\",colormap='autumn',stacked=True)"
   ]
  },
  {
   "cell_type": "markdown",
   "metadata": {},
   "source": [
    "Conclusion:- As per above graph our hypothesis regarding marital status was wrong in fact married people has higher chance of getting loan approved"
   ]
  },
  {
   "cell_type": "code",
   "execution_count": 291,
   "metadata": {},
   "outputs": [
    {
     "data": {
      "text/plain": [
       "<matplotlib.axes._subplots.AxesSubplot at 0x1a28f79390>"
      ]
     },
     "execution_count": 291,
     "metadata": {},
     "output_type": "execute_result"
    },
    {
     "data": {
      "image/png": "[encoded data removed]",
      "text/plain": [
       "<Figure size 432x288 with 1 Axes>"
      ]
     },
     "metadata": {},
     "output_type": "display_data"
    }
   ],
   "source": [
    "#Hypotheis:- Applicants who are buying property in urban areas will easily get loan approved.\n",
    "pd.crosstab(loan_train.Property_Area,loan_train.Loan_Status,normalize='index').plot(kind=\"bar\",colormap='viridis',stacked=True)\n"
   ]
  },
  {
   "cell_type": "markdown",
   "metadata": {},
   "source": [
    "Conclusion:- Applicants who are buying property in Semi-Urban area having more loan approved "
   ]
  },
  {
   "cell_type": "code",
   "execution_count": 293,
   "metadata": {},
   "outputs": [
    {
     "data": {
      "text/plain": [
       "<matplotlib.axes._subplots.AxesSubplot at 0x1a291e6278>"
      ]
     },
     "execution_count": 293,
     "metadata": {},
     "output_type": "execute_result"
    },
    {
     "data": {
      "image/png": "[encoded data removed]",
      "text/plain": [
       "<Figure size 432x288 with 1 Axes>"
      ]
     },
     "metadata": {},
     "output_type": "display_data"
    }
   ],
   "source": [
    "#Hypotheis:- Applicants who have repayed their previous debts or good creidt history should have higher chances of loan approval.\n",
    "pd.crosstab(loan_train.Credit_History,loan_train.Loan_Status,normalize='index').plot(kind=\"bar\",colormap='winter',stacked=True)\n"
   ]
  },
  {
   "cell_type": "markdown",
   "metadata": {},
   "source": [
    "Conclusion:- Applicants who have good credit history they have higher proportion of loan approval as compare to the bad credit history applicant."
   ]
  },
  {
   "cell_type": "code",
   "execution_count": 298,
   "metadata": {},
   "outputs": [
    {
     "data": {
      "text/plain": [
       "<matplotlib.axes._subplots.AxesSubplot at 0x1a28f68358>"
      ]
     },
     "execution_count": 298,
     "metadata": {},
     "output_type": "execute_result"
    },
    {
     "data": {
      "image/png": "[encoded data removed]",
      "text/plain": [
       "<Figure size 432x288 with 1 Axes>"
      ]
     },
     "metadata": {},
     "output_type": "display_data"
    }
   ],
   "source": [
    "#Loan for less time period should have higher chances of approval.\n",
    "pd.crosstab(loan_train.Loan_Amount_Term,loan_train.Loan_Status,normalize='index').plot(kind=\"bar\",colormap='winter',stacked=True)\n",
    "\n"
   ]
  },
  {
   "cell_type": "markdown",
   "metadata": {},
   "source": [
    "Conclusion:- Though its not clear from above graph but holistically we can say that Lower Loan Term period have higher chances of getting loan approved"
   ]
  },
  {
   "cell_type": "code",
   "execution_count": 347,
   "metadata": {},
   "outputs": [],
   "source": [
    "# Now lets see how features are corelated with each other\n",
    "# for this lets first copy the datasets in to other datasets\n",
    "loan_trainc=loan_train.copy()\n",
    "# Now convert all object type into integers or in numerical form for correlation matrix plotting.\n",
    "loan_trainc.Gender.replace({'Male':0,'Female':1},inplace=True)\n",
    "loan_trainc.Married.replace({'Yes':1,'No':0},inplace=True)\n",
    "loan_trainc.Dependents.replace('3+','3',inplace=True)\n",
    "loan_train.Dependents.replace('3+','3',inplace=True)\n",
    "loan_test.Dependents.replace('3+','3',inplace=True)\n",
    "loan_trainc.Dependents=loan_trainc.Dependents.astype('int64') # changing object type to integer type\n",
    "loan_train.Dependents=loan_trainc.Dependents.astype('int64')\n",
    "loan_test.Dependents=loan_trainc.Dependents.astype('int64')\n",
    "loan_trainc.Education.replace({'Graduate':1,'Not Graduate':0},inplace=True)\n",
    "loan_trainc.Self_Employed.replace({'Yes':1,'No':0},inplace=True)\n",
    "loan_trainc.Property_Area.replace({'Semiurban':1,'Urban':2,'Rural':3},inplace=True)\n",
    "loan_trainc.Loan_Status.replace({'Y':1,'N':0},inplace=True)"
   ]
  },
  {
   "cell_type": "code",
   "execution_count": 339,
   "metadata": {},
   "outputs": [
    {
     "data": {
      "text/plain": [
       "<Figure size 648x504 with 0 Axes>"
      ]
     },
     "execution_count": 339,
     "metadata": {},
     "output_type": "execute_result"
    },
    {
     "data": {
      "text/plain": [
       "<matplotlib.axes._subplots.AxesSubplot at 0x1a2976c588>"
      ]
     },
     "execution_count": 339,
     "metadata": {},
     "output_type": "execute_result"
    },
    {
     "data": {
      "image/png": "[encoded data removed]",
      "text/plain": [
       "<Figure size 648x504 with 2 Axes>"
      ]
     },
     "metadata": {},
     "output_type": "display_data"
    }
   ],
   "source": [
    "# Heat Map Plotting Correlation matrix to see correlation between different features.\n",
    "covmatrix = loan_trainc.corr()\n",
    "plt.figure(figsize=(9,7))\n",
    "sns.heatmap(covmatrix, xticklabels=covmatrix.columns.values,yticklabels=covmatrix.columns.values,vmax=.8, square=True, cmap=\"RdBu\",annot=True)\n",
    "\n"
   ]
  },
  {
   "cell_type": "markdown",
   "metadata": {},
   "source": [
    "In above graph The variables with blue color means their correlation is more.Graph shows that Loan status & credit history is correlated and Loan amount & Applicant income is correlated. Marital status and number of Dependents are also related which is quite obvious"
   ]
  },
  {
   "cell_type": "markdown",
   "metadata": {},
   "source": [
    "## 9. Model Building\n",
    "\n",
    "We will build the following models in this section.\n",
    "\n",
    "1. Logistic Regression\n",
    "2. SVM\n",
    "3. KNN\n",
    "4. Decision Tree\n",
    "5. Random Forest\n",
    "6. Gradient Boosting\n",
    "7. AdaBoost"
   ]
  },
  {
   "cell_type": "code",
   "execution_count": 419,
   "metadata": {
    "scrolled": true
   },
   "outputs": [],
   "source": [
    "#Make copy of the both train and test data set\n",
    "loan_traingd=loan_train.copy()\n",
    "loan_testgd=loan_test.copy()\n",
    "#First lets remove the unnecessary column like Loan ID\n",
    "loan_traingd=loan_traingd.drop('Loan_ID',axis=1)\n",
    "loan_testgd=loan_testgd.drop('Loan_ID',axis=1)"
   ]
  },
  {
   "cell_type": "code",
   "execution_count": 550,
   "metadata": {},
   "outputs": [],
   "source": [
    "#Splitting dependent (target) and independent variable from train dataset\n",
    "X=loan_traingd.drop('Loan_Status',axis=1)\n",
    "y=loan_traingd.Loan_Status\n",
    "\n",
    "#Converting categorical variables in numerical variables for modelling in train datasets\n",
    "X=pd.get_dummies(X)\n",
    "\n",
    "#Converting categorical variables in numerical variables for modelling in test datasets\n",
    "test=pd.get_dummies(loan_testgd)\n",
    "\n",
    "#Scale the features: X_scaled\n",
    "X_scaled = scale(X)"
   ]
  },
  {
   "cell_type": "code",
   "execution_count": 551,
   "metadata": {},
   "outputs": [],
   "source": [
    "#make variable for save the result and to show it\n",
    "classifier = ('Logistic Regression','SVM','K-Nearest Neighbor','Decision Tree','Random Forest','Gradient Boosting','AdaBoost')\n",
    "y_pos = np.arange(len(classifier))\n",
    "score = []"
   ]
  },
  {
   "cell_type": "code",
   "execution_count": 552,
   "metadata": {},
   "outputs": [
    {
     "data": {
      "text/plain": [
       "LogisticRegression(C=1.0, class_weight=None, dual=False, fit_intercept=True,\n",
       "          intercept_scaling=1, max_iter=100, multi_class='ovr', n_jobs=1,\n",
       "          penalty='l2', random_state=None, solver='liblinear', tol=0.0001,\n",
       "          verbose=0, warm_start=False)"
      ]
     },
     "execution_count": 552,
     "metadata": {},
     "output_type": "execute_result"
    },
    {
     "name": "stdout",
     "output_type": "stream",
     "text": [
      "The accuracy of model is 80.80%\n"
     ]
    }
   ],
   "source": [
    "clf = LogisticRegression()\n",
    "clf.fit(X_scaled, y)\n",
    "scores = cross_val_score(clf, X_scaled, y,cv=5)\n",
    "score.append(scores.mean())\n",
    "print('The accuracy of model is %.2f%%' %(scores.mean()*100))\n",
    "pred_test = clf.predict(test)"
   ]
  },
  {
   "cell_type": "code",
   "execution_count": 553,
   "metadata": {},
   "outputs": [
    {
     "data": {
      "text/plain": [
       "SVC(C=1.0, cache_size=200, class_weight=None, coef0=0.0,\n",
       "  decision_function_shape='ovr', degree=3, gamma='auto', kernel='rbf',\n",
       "  max_iter=-1, probability=False, random_state=None, shrinking=True,\n",
       "  tol=0.001, verbose=False)"
      ]
     },
     "execution_count": 553,
     "metadata": {},
     "output_type": "execute_result"
    },
    {
     "name": "stdout",
     "output_type": "stream",
     "text": [
      "The accuracy of model is 80.47%\n"
     ]
    }
   ],
   "source": [
    "clf = SVC()\n",
    "clf.fit(X_scaled, y)\n",
    "scores = cross_val_score(clf, X_scaled, y,cv=5)\n",
    "score.append(scores.mean())\n",
    "print('The accuracy of model is %.2f%%' %(scores.mean()*100))\n",
    "pred_test = clf.predict(test)"
   ]
  },
  {
   "cell_type": "code",
   "execution_count": 554,
   "metadata": {},
   "outputs": [
    {
     "data": {
      "text/plain": [
       "KNeighborsClassifier(algorithm='auto', leaf_size=30, metric='minkowski',\n",
       "           metric_params=None, n_jobs=1, n_neighbors=5, p=2,\n",
       "           weights='uniform')"
      ]
     },
     "execution_count": 554,
     "metadata": {},
     "output_type": "execute_result"
    },
    {
     "name": "stdout",
     "output_type": "stream",
     "text": [
      "The accuracy of model is 75.41%\n"
     ]
    }
   ],
   "source": [
    "clf = KNeighborsClassifier()\n",
    "scores = cross_val_score(clf, X_scaled, y,cv=5)\n",
    "clf.fit(X_scaled, y)\n",
    "score.append(scores.mean())\n",
    "print('The accuracy of model is %.2f%%' %(scores.mean()*100))\n",
    "pred_test = clf.predict(test)"
   ]
  },
  {
   "cell_type": "code",
   "execution_count": 555,
   "metadata": {},
   "outputs": [
    {
     "data": {
      "text/plain": [
       "DecisionTreeClassifier(class_weight=None, criterion='gini', max_depth=None,\n",
       "            max_features=None, max_leaf_nodes=None,\n",
       "            min_impurity_decrease=0.0, min_impurity_split=None,\n",
       "            min_samples_leaf=1, min_samples_split=2,\n",
       "            min_weight_fraction_leaf=0.0, presort=False, random_state=None,\n",
       "            splitter='best')"
      ]
     },
     "execution_count": 555,
     "metadata": {},
     "output_type": "execute_result"
    },
    {
     "name": "stdout",
     "output_type": "stream",
     "text": [
      "The accuracy of model is 70.05%\n"
     ]
    }
   ],
   "source": [
    "clf = DecisionTreeClassifier()\n",
    "clf.fit(X_scaled, y)\n",
    "scores = cross_val_score(clf, X_scaled, y,cv=5)\n",
    "score.append(scores.mean())\n",
    "print('The accuracy of model is %.2f%%' %(scores.mean()*100))\n",
    "pred_test = clf.predict(test)"
   ]
  },
  {
   "cell_type": "code",
   "execution_count": 556,
   "metadata": {},
   "outputs": [
    {
     "data": {
      "text/plain": [
       "RandomForestClassifier(bootstrap=True, class_weight=None, criterion='gini',\n",
       "            max_depth=None, max_features='auto', max_leaf_nodes=None,\n",
       "            min_impurity_decrease=0.0, min_impurity_split=None,\n",
       "            min_samples_leaf=1, min_samples_split=2,\n",
       "            min_weight_fraction_leaf=0.0, n_estimators=10, n_jobs=1,\n",
       "            oob_score=False, random_state=None, verbose=0,\n",
       "            warm_start=False)"
      ]
     },
     "execution_count": 556,
     "metadata": {},
     "output_type": "execute_result"
    },
    {
     "name": "stdout",
     "output_type": "stream",
     "text": [
      "The accuracy of model is 75.41%\n"
     ]
    }
   ],
   "source": [
    "clf = RandomForestClassifier()\n",
    "clf.fit(X_scaled, y)\n",
    "scores = cross_val_score(clf, X_scaled, y,cv=5)\n",
    "score.append(scores.mean())\n",
    "print('The accuracy of model is %.2f%%' %(scores.mean()*100))\n",
    "pred_test = clf.predict(test)"
   ]
  },
  {
   "cell_type": "code",
   "execution_count": 557,
   "metadata": {},
   "outputs": [
    {
     "data": {
      "text/plain": [
       "GradientBoostingClassifier(criterion='friedman_mse', init=None,\n",
       "              learning_rate=0.1, loss='deviance', max_depth=3,\n",
       "              max_features=None, max_leaf_nodes=None,\n",
       "              min_impurity_decrease=0.0, min_impurity_split=None,\n",
       "              min_samples_leaf=1, min_samples_split=2,\n",
       "              min_weight_fraction_leaf=0.0, n_estimators=100,\n",
       "              presort='auto', random_state=None, subsample=1.0, verbose=0,\n",
       "              warm_start=False)"
      ]
     },
     "execution_count": 557,
     "metadata": {},
     "output_type": "execute_result"
    },
    {
     "name": "stdout",
     "output_type": "stream",
     "text": [
      "The accuracy of model is 77.71%\n"
     ]
    }
   ],
   "source": [
    "clf = GradientBoostingClassifier()\n",
    "clf.fit(X_scaled, y)\n",
    "scores = cross_val_score(clf, X_scaled, y,cv=5)\n",
    "score.append(scores.mean())\n",
    "print('The accuracy of model is %.2f%%' %(scores.mean()*100))\n",
    "pred_test = clf.predict(test)"
   ]
  },
  {
   "cell_type": "code",
   "execution_count": 558,
   "metadata": {},
   "outputs": [
    {
     "data": {
      "text/plain": [
       "AdaBoostClassifier(algorithm='SAMME.R', base_estimator=None,\n",
       "          learning_rate=1.0, n_estimators=50, random_state=None)"
      ]
     },
     "execution_count": 558,
     "metadata": {},
     "output_type": "execute_result"
    },
    {
     "name": "stdout",
     "output_type": "stream",
     "text": [
      "The accuracy of model is 78.51%\n"
     ]
    }
   ],
   "source": [
    "clf = AdaBoostClassifier()\n",
    "clf.fit(X_scaled, y)\n",
    "scores = cross_val_score(clf, X_scaled, y,cv=5)\n",
    "score.append(scores.mean())\n",
    "print('The accuracy of model is %.2f%%' %(scores.mean()*100))\n",
    "pred_test = clf.predict(test)"
   ]
  },
  {
   "cell_type": "code",
   "execution_count": 564,
   "metadata": {},
   "outputs": [
    {
     "data": {
      "text/plain": [
       "<BarContainer object of 7 artists>"
      ]
     },
     "execution_count": 564,
     "metadata": {},
     "output_type": "execute_result"
    },
    {
     "data": {
      "text/plain": [
       "([<matplotlib.axis.YTick at 0x1a25b50cf8>,\n",
       "  <matplotlib.axis.YTick at 0x1a25b50630>,\n",
       "  <matplotlib.axis.YTick at 0x1a25b4e748>,\n",
       "  <matplotlib.axis.YTick at 0x1a25f42710>,\n",
       "  <matplotlib.axis.YTick at 0x1a25f42f28>,\n",
       "  <matplotlib.axis.YTick at 0x1a25f4d438>,\n",
       "  <matplotlib.axis.YTick at 0x1a25f4d908>],\n",
       " <a list of 7 Text yticklabel objects>)"
      ]
     },
     "execution_count": 564,
     "metadata": {},
     "output_type": "execute_result"
    },
    {
     "data": {
      "text/plain": [
       "Text(0.5,0,'Score')"
      ]
     },
     "execution_count": 564,
     "metadata": {},
     "output_type": "execute_result"
    },
    {
     "data": {
      "text/plain": [
       "Text(0.5,1,'Classification Model Performance')"
      ]
     },
     "execution_count": 564,
     "metadata": {},
     "output_type": "execute_result"
    },
    {
     "data": {
      "image/png": "[encoded data removed]",
      "text/plain": [
       "<Figure size 432x288 with 1 Axes>"
      ]
     },
     "metadata": {},
     "output_type": "display_data"
    }
   ],
   "source": [
    "plt.barh(y_pos, score, align='center', alpha=0.5,color='b')\n",
    "plt.yticks(y_pos, classifier)\n",
    "plt.xlabel('Score')\n",
    "plt.title('Classification Model Performance')\n",
    "plt.show()"
   ]
  },
  {
   "cell_type": "markdown",
   "metadata": {},
   "source": [
    "After trying and testing 7 different algorithms, the best accuracy is achieved by Logistic Regression (80.80), followed by SVM (80.47) and ADA Boost (78.51)."
   ]
  },
  {
   "cell_type": "markdown",
   "metadata": {},
   "source": [
    "## What more can be tried?\n",
    "\n",
    "There are still quite a many things that can be tried to improve our models’ predictions. We create and add more features, try different models with different subset of features and/or rows, etc. \n",
    "Some of the points are listed below:\n",
    "\n",
    "1. We can train the Adaboost and Random Forest model using grid search to optimize its hyperparameters and improve the accuracy.\n",
    "\n",
    "2. We can also make independent vs independent variable visualizations to discover some more patterns."
   ]
  }
 ],
 "metadata": {
  "kernelspec": {
   "display_name": "Python 3",
   "language": "python",
   "name": "python3"
  },
  "language_info": {
   "codemirror_mode": {
    "name": "ipython",
    "version": 3
   },
   "file_extension": ".py",
   "mimetype": "text/x-python",
   "name": "python",
   "nbconvert_exporter": "python",
   "pygments_lexer": "ipython3",
   "version": "3.6.5"
  }
 },
 "nbformat": 4,
 "nbformat_minor": 2
}
